{
 "cells": [
  {
   "attachments": {},
   "cell_type": "markdown",
   "metadata": {},
   "source": [
    "This code uses open source solutions to analyze woodland distribution in DC in relation to the census tracts with highest number of post graduate degrees. \n",
    "\n",
    "| Variable Name | Variable Description |\n",
    "| :-: | :-: |\n",
    "| B15003_022E | \tEstimate!!Total!!Total population 25 years and over with a Bachelor's degree or higher |\n",
    "\n",
    "| Variable Name | Variable URL |\n",
    "| :-: | :-: |\n",
    "| Wooded Areas | https://opendata.dc.gov/datasets/DCGIS::wooded-areas/explore?location=38.890762%2C-77.021832%2C12.54 |"
   ]
  },
  {
   "attachments": {},
   "cell_type": "markdown",
   "metadata": {},
   "source": [
    "#### <span style=\"color:red\">Importing all the modules</span>"
   ]
  },
  {
   "cell_type": "code",
   "execution_count": null,
   "metadata": {},
   "outputs": [],
   "source": [
    "#import modules for plotting stuff\n",
    "import numpy as np \n",
    "import matplotlib.pyplot as plt \n",
    "import contextily as cx \n",
    "import seaborn as sns\n",
    "\n",
    "\n",
    "# install census and us and import relevant modules\n",
    "#! pip install census us\n",
    "from census import Census\n",
    "from us import states\n",
    "\n",
    "\n",
    "#import pands, geopandas, zipfile, and os\n",
    "import pandas as pd\n",
    "import geopandas as gpd\n",
    "from shapely.geometry import Point, LineString, Polygon \n",
    "import zipfile\n",
    "import os"
   ]
  },
  {
   "cell_type": "markdown",
   "metadata": {},
   "source": [
    "#### <span style=\"color:red\">Grabbing the spatial files</span>"
   ]
  },
  {
   "cell_type": "code",
   "execution_count": null,
   "metadata": {},
   "outputs": [],
   "source": [
    "#DC woods spatial data obtainment in a geojson format directly from https://opendata.dc.gov/ using the API. \n",
    "dc_woods = gpd.read_file ('https://maps2.dcgis.dc.gov/dcgis/rest/services/DCGIS_DATA/Environment_WebMercator/MapServer/29/query?outFields=*&where=1%3D1&f=geojson')\n",
    "\n",
    "#Using the curl command to obtain tiger spatial files of DC census tracts. \n",
    "! curl -o ./acs.zip https://www2.census.gov/geo/tiger/TIGER2017/TRACT/tl_2017_11_tract.zip \n",
    "\n",
    "# Reading DC Quadrants via API\n",
    "quad = gpd.read_file('https://opendata.arcgis.com/datasets/02923e4697804406b9ee3268a160db99_11.geojson')\n",
    "quad  = quad[['QUADRANT','geometry']]\n",
    "quad = quad.to_crs(epsg=32618)\n",
    "\n",
    "#Reading water via API\n",
    "water = gpd.read_file('https://opendata.arcgis.com/datasets/db65ff0038ed4270acb1435d931201cf_24.geojson')\n",
    "water = water.to_crs(epsg=32618)\n",
    "\n",
    "#unziping the DC tiger we just obtained from the curl command\n",
    "zip_file_path = \"acs.zip\"\n",
    "\n",
    "zip_path = os.path.dirname(os.path.abspath(zip_file_path))\n",
    "\n",
    "with zipfile.ZipFile(zip_file_path, \"r\") as zip_ref:\n",
    "    zip_ref.extractall(zip_path)\n",
    "\n",
    "#check to see if it has been sucessfully unzipped in the directory. \n",
    "!dir"
   ]
  }
 ],
 "metadata": {
  "kernelspec": {
   "display_name": "base",
   "language": "python",
   "name": "python3"
  },
  "language_info": {
   "name": "python",
   "version": "3.9.16"
  },
  "orig_nbformat": 4
 },
 "nbformat": 4,
 "nbformat_minor": 2
}
